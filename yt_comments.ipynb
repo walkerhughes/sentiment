{
 "cells": [
  {
   "cell_type": "code",
   "execution_count": 7,
   "metadata": {},
   "outputs": [],
   "source": [
    "import os\n",
    "import heapq\n",
    "import googleapiclient.discovery\n",
    "\n",
    "API_KEY = os.getenv(\"YOUTUBE_API_KEY\")"
   ]
  },
  {
   "cell_type": "code",
   "execution_count": 8,
   "metadata": {},
   "outputs": [],
   "source": [
    "import pandas as pd"
   ]
  },
  {
   "cell_type": "code",
   "execution_count": 9,
   "metadata": {},
   "outputs": [
    {
     "data": {
      "text/html": [
       "<div>\n",
       "<style scoped>\n",
       "    .dataframe tbody tr th:only-of-type {\n",
       "        vertical-align: middle;\n",
       "    }\n",
       "\n",
       "    .dataframe tbody tr th {\n",
       "        vertical-align: top;\n",
       "    }\n",
       "\n",
       "    .dataframe thead th {\n",
       "        text-align: right;\n",
       "    }\n",
       "</style>\n",
       "<table border=\"1\" class=\"dataframe\">\n",
       "  <thead>\n",
       "    <tr style=\"text-align: right;\">\n",
       "      <th></th>\n",
       "      <th>ticker</th>\n",
       "      <th>title</th>\n",
       "      <th>url</th>\n",
       "      <th>time_published</th>\n",
       "      <th>authors</th>\n",
       "      <th>summary</th>\n",
       "      <th>source</th>\n",
       "      <th>overall_sentiment_score</th>\n",
       "      <th>overall_sentiment_label</th>\n",
       "      <th>ticker_sentiment</th>\n",
       "      <th>topics</th>\n",
       "      <th>collection_timestamp</th>\n",
       "    </tr>\n",
       "  </thead>\n",
       "  <tbody>\n",
       "    <tr>\n",
       "      <th>0</th>\n",
       "      <td>AAPL</td>\n",
       "      <td>Can the Latest iPhone 16e Push the Apple Stock...</td>\n",
       "      <td>https://www.zacks.com/stock/news/2418900/can-t...</td>\n",
       "      <td>20250220T163200</td>\n",
       "      <td>[Aniruddha Ganguly]</td>\n",
       "      <td>Although AAPL's AI push and growing Services b...</td>\n",
       "      <td>Zacks Commentary</td>\n",
       "      <td>0.296749</td>\n",
       "      <td>Somewhat-Bullish</td>\n",
       "      <td>[{'ticker': 'MSFT', 'relevance_score': '0.0870...</td>\n",
       "      <td>[{'topic': 'Retail &amp; Wholesale', 'relevance_sc...</td>\n",
       "      <td>2025-02-20T19:57:09.571019</td>\n",
       "    </tr>\n",
       "    <tr>\n",
       "      <th>1</th>\n",
       "      <td>AAPL</td>\n",
       "      <td>Apple Stock Set For Streaming Lift? 'Severance...</td>\n",
       "      <td>https://www.benzinga.com/general/entertainment...</td>\n",
       "      <td>20250220T161828</td>\n",
       "      <td>[Chris Katje]</td>\n",
       "      <td>AppleTV+ has a streaming hit with \"Severance.\"...</td>\n",
       "      <td>Benzinga</td>\n",
       "      <td>0.219397</td>\n",
       "      <td>Somewhat-Bullish</td>\n",
       "      <td>[{'ticker': 'NFLX', 'relevance_score': '0.0525...</td>\n",
       "      <td>[{'topic': 'Technology', 'relevance_score': '1...</td>\n",
       "      <td>2025-02-20T19:57:09.571019</td>\n",
       "    </tr>\n",
       "    <tr>\n",
       "      <th>2</th>\n",
       "      <td>AAPL</td>\n",
       "      <td>LKQ Q4 Earnings Surpass Expectations, Revenues...</td>\n",
       "      <td>https://www.zacks.com/stock/news/2418843/lkq-q...</td>\n",
       "      <td>20250220T155300</td>\n",
       "      <td>[Zacks Equity Research]</td>\n",
       "      <td>LKQ reports mixed fourth-quarter results and e...</td>\n",
       "      <td>Zacks Commentary</td>\n",
       "      <td>0.056637</td>\n",
       "      <td>Neutral</td>\n",
       "      <td>[{'ticker': 'DAN', 'relevance_score': '0.18625...</td>\n",
       "      <td>[{'topic': 'Earnings', 'relevance_score': '0.9...</td>\n",
       "      <td>2025-02-20T19:57:09.571019</td>\n",
       "    </tr>\n",
       "  </tbody>\n",
       "</table>\n",
       "</div>"
      ],
      "text/plain": [
       "  ticker                                              title  \\\n",
       "0   AAPL  Can the Latest iPhone 16e Push the Apple Stock...   \n",
       "1   AAPL  Apple Stock Set For Streaming Lift? 'Severance...   \n",
       "2   AAPL  LKQ Q4 Earnings Surpass Expectations, Revenues...   \n",
       "\n",
       "                                                 url   time_published  \\\n",
       "0  https://www.zacks.com/stock/news/2418900/can-t...  20250220T163200   \n",
       "1  https://www.benzinga.com/general/entertainment...  20250220T161828   \n",
       "2  https://www.zacks.com/stock/news/2418843/lkq-q...  20250220T155300   \n",
       "\n",
       "                   authors                                            summary  \\\n",
       "0      [Aniruddha Ganguly]  Although AAPL's AI push and growing Services b...   \n",
       "1            [Chris Katje]  AppleTV+ has a streaming hit with \"Severance.\"...   \n",
       "2  [Zacks Equity Research]  LKQ reports mixed fourth-quarter results and e...   \n",
       "\n",
       "             source  overall_sentiment_score overall_sentiment_label  \\\n",
       "0  Zacks Commentary                 0.296749        Somewhat-Bullish   \n",
       "1          Benzinga                 0.219397        Somewhat-Bullish   \n",
       "2  Zacks Commentary                 0.056637                 Neutral   \n",
       "\n",
       "                                    ticker_sentiment  \\\n",
       "0  [{'ticker': 'MSFT', 'relevance_score': '0.0870...   \n",
       "1  [{'ticker': 'NFLX', 'relevance_score': '0.0525...   \n",
       "2  [{'ticker': 'DAN', 'relevance_score': '0.18625...   \n",
       "\n",
       "                                              topics  \\\n",
       "0  [{'topic': 'Retail & Wholesale', 'relevance_sc...   \n",
       "1  [{'topic': 'Technology', 'relevance_score': '1...   \n",
       "2  [{'topic': 'Earnings', 'relevance_score': '0.9...   \n",
       "\n",
       "         collection_timestamp  \n",
       "0  2025-02-20T19:57:09.571019  \n",
       "1  2025-02-20T19:57:09.571019  \n",
       "2  2025-02-20T19:57:09.571019  "
      ]
     },
     "execution_count": 9,
     "metadata": {},
     "output_type": "execute_result"
    }
   ],
   "source": [
    "news_titles = pd.read_json(\"./news_sentiment_data_20250220_115715.json\")\n",
    "news_titles.head(3)"
   ]
  },
  {
   "cell_type": "code",
   "execution_count": 4,
   "metadata": {},
   "outputs": [
    {
     "data": {
      "text/plain": [
       "array(['AAPL', 'NVDA', 'MSFT', 'AMZN', 'GOOG'], dtype=object)"
      ]
     },
     "execution_count": 4,
     "metadata": {},
     "output_type": "execute_result"
    }
   ],
   "source": [
    "news_titles[\"ticker\"].unique()"
   ]
  },
  {
   "cell_type": "code",
   "execution_count": 18,
   "metadata": {},
   "outputs": [],
   "source": [
    "def youtube_search(query, max_results=10):\n",
    "\n",
    "    youtube = googleapiclient.discovery.build(\"youtube\", \"v3\", developerKey=API_KEY)\n",
    "    \n",
    "    # Call the search.list method to retrieve results matching the query\n",
    "    request = youtube.search().list(\n",
    "        part=\"snippet\",\n",
    "        q=query,\n",
    "        type=\"video\",\n",
    "        maxResults=max_results\n",
    "    )\n",
    "    response = request.execute()\n",
    "    \n",
    "    # Extract video IDs, titles, and publication dates from the response\n",
    "    videos = []\n",
    "    for item in response.get(\"items\", []):\n",
    "        video_data = {\n",
    "            \"video_id\": item[\"id\"][\"videoId\"],\n",
    "            \"title\": item[\"snippet\"][\"title\"],\n",
    "            \"published_at\": item[\"snippet\"][\"publishedAt\"]\n",
    "        }\n",
    "        videos.append(video_data)\n",
    "    \n",
    "    return videos\n",
    "\n",
    "\n",
    "def get_video_comments(video_id, max_results=100):\n",
    "    youtube = googleapiclient.discovery.build(\"youtube\", \"v3\", developerKey=API_KEY)\n",
    "\n",
    "    comments = []\n",
    "    next_page_token = None\n",
    "\n",
    "    while len(comments) < max_results:\n",
    "        request = youtube.commentThreads().list(\n",
    "            part=\"snippet\",\n",
    "            videoId=video_id,\n",
    "            maxResults=min(100, max_results - len(comments)),\n",
    "            textFormat=\"plainText\",\n",
    "            pageToken=next_page_token\n",
    "        )\n",
    "        response = request.execute()\n",
    "\n",
    "        for item in response.get(\"items\", []):\n",
    "            comment = item[\"snippet\"][\"topLevelComment\"][\"snippet\"]\n",
    "            comment_data = {\n",
    "                \"author\": comment[\"authorDisplayName\"],\n",
    "                \"text\": comment[\"textDisplay\"],\n",
    "                \"likes\": comment[\"likeCount\"],\n",
    "                \"published_at\": comment[\"publishedAt\"]\n",
    "            }\n",
    "            comments.append(comment_data)\n",
    "\n",
    "        next_page_token = response.get(\"nextPageToken\")\n",
    "        if not next_page_token:\n",
    "            break\n",
    "\n",
    "    return comments"
   ]
  },
  {
   "cell_type": "code",
   "execution_count": 19,
   "metadata": {},
   "outputs": [
    {
     "data": {
      "text/plain": [
       "'Can the Latest iPhone 16e Push the Apple Stock Higher in 2025?'"
      ]
     },
     "execution_count": 19,
     "metadata": {},
     "output_type": "execute_result"
    }
   ],
   "source": [
    "news_titles.loc[0][\"title\"]"
   ]
  },
  {
   "cell_type": "code",
   "execution_count": 25,
   "metadata": {},
   "outputs": [],
   "source": [
    "parsed_video_data = []\n",
    "for ticker, title in zip(news_titles[\"ticker\"].values[: 3], news_titles[\"title\"].values[: 3]):\n",
    "    for ticker_data in youtube_search(query=title, max_results=10):\n",
    "        comments = get_video_comments(ticker_data[\"video_id\"], max_results=500)\n",
    "        top_comments = heapq.nlargest(500, comments, key=lambda item: item[\"likes\"])\n",
    "        ticker_data[\"title\"] = title\n",
    "        ticker_data[\"ticker\"] = ticker\n",
    "        ticker_data[\"top_comments\"] = top_comments\n",
    "        parsed_video_data.append(ticker_data)"
   ]
  },
  {
   "cell_type": "code",
   "execution_count": 26,
   "metadata": {},
   "outputs": [
    {
     "data": {
      "text/plain": [
       "{'video_id': 'Gvx5SwB6trE',\n",
       " 'title': 'Can the Latest iPhone 16e Push the Apple Stock Higher in 2025?',\n",
       " 'published_at': '2025-02-19T22:34:06Z',\n",
       " 'ticker': 'AAPL',\n",
       " 'top_comments': [{'video_id': 'Gvx5SwB6trE',\n",
       "   'author': '@O-jack1',\n",
       "   'text': \"Tech companies will still be a key market driver. I own a handful of them worth $200,000. But my trust level in Trump is so low that I would not commit for too long. I'm at crossroad if I should sell now or not, my goal is at least $1m before retirement. I need advice on this.\",\n",
       "   'likes': 33,\n",
       "   'published_at': '2025-02-20T12:08:11Z'},\n",
       "  {'video_id': 'Gvx5SwB6trE',\n",
       "   'author': '@volitiveclover',\n",
       "   'text': 'she does not know what she’s talking about',\n",
       "   'likes': 6,\n",
       "   'published_at': '2025-02-19T23:15:20Z'},\n",
       "  {'video_id': 'Gvx5SwB6trE',\n",
       "   'author': '@ljacobs357',\n",
       "   'text': \"I don't get the appeal of the iPhone, when there are car better options.\",\n",
       "   'likes': 0,\n",
       "   'published_at': '2025-02-20T13:40:20Z'},\n",
       "  {'video_id': 'Gvx5SwB6trE',\n",
       "   'author': '@xploit811',\n",
       "   'text': 'Apple is garbage. Only running on govt support',\n",
       "   'likes': 0,\n",
       "   'published_at': '2025-02-20T06:15:26Z'},\n",
       "  {'video_id': 'Gvx5SwB6trE',\n",
       "   'author': '@tpf4292',\n",
       "   'text': 'It’s funny that these Wall Street people were talking about cheaper price, AI, etc, they are probably all true to some degree, but this phone is really about putting out \\uf8ff’s own modem to test the water. It’s a brilliant strategy.',\n",
       "   'likes': 0,\n",
       "   'published_at': '2025-02-20T05:49:30Z'},\n",
       "  {'video_id': 'Gvx5SwB6trE',\n",
       "   'author': '@smartphonefan5226',\n",
       "   'text': 'There are way better Android options to consider.',\n",
       "   'likes': 0,\n",
       "   'published_at': '2025-02-20T01:11:26Z'},\n",
       "  {'video_id': 'Gvx5SwB6trE',\n",
       "   'author': '@rogerbeals1293',\n",
       "   'text': 'Tired of new iPhone every quarter come up with something else.',\n",
       "   'likes': 0,\n",
       "   'published_at': '2025-02-20T00:14:55Z'},\n",
       "  {'video_id': 'Gvx5SwB6trE',\n",
       "   'author': '@LL-kh7sc',\n",
       "   'text': 'Apple completely missed the point with the 16e. Apple needs a NEW BUDGET phone. Something cheap enough to be free with a subsidized phone plan. Heck, the phone it is replacing (SE) actually sells UNLOCKED at retail for $150!! Newsflash, most consumers DO NOT WANT AI!!',\n",
       "   'likes': 0,\n",
       "   'published_at': '2025-02-19T23:52:09Z'}]}"
      ]
     },
     "execution_count": 26,
     "metadata": {},
     "output_type": "execute_result"
    }
   ],
   "source": [
    "parsed_video_data[0]"
   ]
  },
  {
   "cell_type": "code",
   "execution_count": null,
   "metadata": {},
   "outputs": [],
   "source": []
  },
  {
   "cell_type": "code",
   "execution_count": 10,
   "metadata": {},
   "outputs": [
    {
     "name": "stdout",
     "output_type": "stream",
     "text": [
      "Downloaded 168 comments.\n"
     ]
    }
   ],
   "source": [
    "def get_video_comments(video_id, max_results=100):\n",
    "    youtube = googleapiclient.discovery.build(\"youtube\", \"v3\", developerKey=API_KEY)\n",
    "\n",
    "    comments = []\n",
    "    next_page_token = None\n",
    "\n",
    "    while len(comments) < max_results:\n",
    "        request = youtube.commentThreads().list(\n",
    "            part=\"snippet\",\n",
    "            videoId=video_id,\n",
    "            maxResults=min(100, max_results - len(comments)),\n",
    "            textFormat=\"plainText\",\n",
    "            pageToken=next_page_token\n",
    "        )\n",
    "        response = request.execute()\n",
    "\n",
    "        for item in response.get(\"items\", []):\n",
    "            comment = item[\"snippet\"][\"topLevelComment\"][\"snippet\"]\n",
    "            comment_data = {\n",
    "                \"video_id\": video_id,\n",
    "                \"author\": comment[\"authorDisplayName\"],\n",
    "                \"text\": comment[\"textDisplay\"],\n",
    "                \"likes\": comment[\"likeCount\"],\n",
    "                \"published_at\": comment[\"publishedAt\"]\n",
    "            }\n",
    "            comments.append(comment_data)\n",
    "\n",
    "        next_page_token = response.get(\"nextPageToken\")\n",
    "        if not next_page_token:\n",
    "            break\n",
    "\n",
    "    return comments\n",
    "\n",
    "\n",
    "# video on AAPL earnings from 2 weeks ago\n",
    "video_id = \"u_D2eCtnFTs\"\n",
    "comments = get_video_comments(video_id, max_results=500)\n",
    "print(f\"Downloaded {len(comments)} comments.\")"
   ]
  },
  {
   "cell_type": "code",
   "execution_count": 11,
   "metadata": {},
   "outputs": [
    {
     "data": {
      "text/plain": [
       "[{'video_id': 'u_D2eCtnFTs',\n",
       "  'author': '@KingTechHD',\n",
       "  'text': '😂 that’s crazy. Once it realizes it’s not the MagSafe Battery Pack it stops charging. Unfortunately reverse charging is slow & terrible. Apple wants to get it right when they enable it',\n",
       "  'likes': 538,\n",
       "  'published_at': '2022-11-04T17:49:57Z'},\n",
       " {'video_id': 'u_D2eCtnFTs',\n",
       "  'author': '@ReviewswBryz',\n",
       "  'text': 'I feels like apple already have most of these hardware capabilities and they will enable them at their own convenient time as a new release 😁',\n",
       "  'likes': 308,\n",
       "  'published_at': '2022-11-04T18:42:51Z'},\n",
       " {'video_id': 'u_D2eCtnFTs',\n",
       "  'author': '@leilinatoilolo3649',\n",
       "  'text': 'I think that it would be very useful if they enabled it sooner rather than later.',\n",
       "  'likes': 139,\n",
       "  'published_at': '2022-11-04T17:38:18Z'},\n",
       " {'video_id': 'u_D2eCtnFTs',\n",
       "  'author': '@PaulRybicki83',\n",
       "  'text': 'So pretty much it can’t',\n",
       "  'likes': 56,\n",
       "  'published_at': '2022-11-04T17:48:32Z'},\n",
       " {'video_id': 'u_D2eCtnFTs',\n",
       "  'author': '@4kmentality',\n",
       "  'text': 'I can imagine apple allowing you to do this in the future but strictly with pro max iPhones and pro model AirPods and that’s it, no other devices',\n",
       "  'likes': 51,\n",
       "  'published_at': '2022-11-05T01:03:32Z'},\n",
       " {'video_id': 'u_D2eCtnFTs',\n",
       "  'author': '@LouManning',\n",
       "  'text': \"I think we should have the option to leverage this functionality. I have it on my old S10 5G and it has been helpful on the road. The real question is why haven't enabled it?\",\n",
       "  'likes': 22,\n",
       "  'published_at': '2022-11-04T18:02:07Z'},\n",
       " {'video_id': 'u_D2eCtnFTs',\n",
       "  'author': '@mr.g702',\n",
       "  'text': 'If I am not wrong , the portable MagSafe battery can be used to charge AirPods too.',\n",
       "  'likes': 19,\n",
       "  'published_at': '2023-02-10T03:15:19Z'}]"
      ]
     },
     "execution_count": 11,
     "metadata": {},
     "output_type": "execute_result"
    }
   ],
   "source": [
    "heapq.nlargest(7, comments, key=lambda item: item[\"likes\"])"
   ]
  },
  {
   "cell_type": "code",
   "execution_count": null,
   "metadata": {},
   "outputs": [],
   "source": []
  }
 ],
 "metadata": {
  "kernelspec": {
   "display_name": "winter1",
   "language": "python",
   "name": "python3"
  },
  "language_info": {
   "codemirror_mode": {
    "name": "ipython",
    "version": 3
   },
   "file_extension": ".py",
   "mimetype": "text/x-python",
   "name": "python",
   "nbconvert_exporter": "python",
   "pygments_lexer": "ipython3",
   "version": "3.11.9"
  }
 },
 "nbformat": 4,
 "nbformat_minor": 2
}
